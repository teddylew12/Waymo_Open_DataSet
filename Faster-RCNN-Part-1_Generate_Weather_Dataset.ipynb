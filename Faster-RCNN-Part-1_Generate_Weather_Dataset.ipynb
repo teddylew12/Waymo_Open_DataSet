{
 "cells": [
  {
   "cell_type": "markdown",
   "metadata": {
    "colab_type": "text",
    "id": "view-in-github"
   },
   "source": [
    "<a href=\"https://colab.research.google.com/github/teddylew12/Waymo_Open_DataSet/blob/master/Generate_Weather_Dataset.ipynb\" target=\"_parent\"><img src=\"https://colab.research.google.com/assets/colab-badge.svg\" alt=\"Open In Colab\"/></a>"
   ]
  },
  {
   "cell_type": "markdown",
   "metadata": {},
   "source": [
    "# Generating Weather Images\n",
    "\n",
    "The goal of this Jupyter Notebook is to preprocess the TFRecord files to create a dataset for our Weather Classifier Competition (See Faster-RCNN-Part-2!).\n",
    "\n",
    "\n",
    "### Imports"
   ]
  },
  {
   "cell_type": "code",
   "execution_count": 0,
   "metadata": {
    "colab": {},
    "colab_type": "code",
    "id": "Oeb-z5-T3zAF"
   },
   "outputs": [],
   "source": [
    "from google.colab import drive\n",
    "drive.mount('/data')\n"
   ]
  },
  {
   "cell_type": "code",
   "execution_count": 0,
   "metadata": {
    "colab": {},
    "colab_type": "code",
    "id": "Ndgc8K6bnk3E"
   },
   "outputs": [],
   "source": [
    "!pip3 install waymo-open-dataset\n",
    "!pip3 install tensorflow==2.0.0\n",
    "import os\n",
    "import tensorflow as tf\n",
    "import math\n",
    "import numpy as np\n",
    "import itertools\n",
    "import random\n",
    "from PIL import Image\n",
    "from tqdm import tqdm\n",
    "from glob import glob\n",
    "!pip install simple_waymo_open_dataset_reader\n",
    "from simple_waymo_open_dataset_reader import WaymoDataFileReader\n",
    "from simple_waymo_open_dataset_reader import dataset_pb2, label_pb2\n",
    "from simple_waymo_open_dataset_reader import utils\n"
   ]
  },
  {
   "cell_type": "code",
   "execution_count": 0,
   "metadata": {
    "colab": {},
    "colab_type": "code",
    "id": "ek0nloED540p"
   },
   "outputs": [],
   "source": [
    "# Change the CD To your specific path\n",
    "DIRNAME =\"/content/drive/Shared drives/Waymo Project/Data/CleanTest/weather_images\"\n",
    "os.chdir(DIRNAME)\n",
    "! mkdir weather_images"
   ]
  },
  {
   "cell_type": "markdown",
   "metadata": {},
   "source": [
    "## Class Imbalance Prevention\n",
    "\n",
    "The main challenge of creating this dataset is the massive class imbalance between sunny and rainy images. \n",
    "\n"
   ]
  },
  {
   "cell_type": "code",
   "execution_count": null,
   "metadata": {},
   "outputs": [],
   "source": [
    "sunny = 0\n",
    "rainy = 0\n",
    "for file in glob(DIRNAME +\"/*.tfrecord\"):\n",
    "    if getweather(file) ==\"sunny\":\n",
    "        sunny +=1\n",
    "    else\n",
    "        rainy +=1\n",
    "print(f\"There are {sunny} sunny and {rainy} rainy files\")"
   ]
  },
  {
   "cell_type": "markdown",
   "metadata": {},
   "source": [
    "If we  were to naively use all of the files, our model would be baised towards always classifying the weather as sunny. So we need to make a evenly balanced dataset by only taking a portion of the sunny images to match the number of rainy images."
   ]
  },
  {
   "cell_type": "code",
   "execution_count": 0,
   "metadata": {
    "colab": {},
    "colab_type": "code",
    "id": "fKXzF-pL1Mcb"
   },
   "outputs": [],
   "source": [
    "\n",
    "def getWeather(FILENAME):\n",
    "    datafile = WaymoDataFileReader(tf_file)\n",
    "    for frame in datafile:\n",
    "        return frame.context.stats.weather\n",
    "\n",
    "def generate_file_list(dirname):\n",
    "    sun_files =[]\n",
    "    rain_files =[]\n",
    "    for fname in os.listdir(dirname):\n",
    "        #Check that our file is an tfrecord file\n",
    "        if not fname.endswith(\".tfrecord\"):\n",
    "            continue\n",
    "        fullname = os.path.join(dirname,fname)\n",
    "        if getWeather(fullname) == \"sunny\":\n",
    "            sun_files.append(fname)\n",
    "        else:\n",
    "            rain_files.append(fname)\n",
    "    #There will be an imbalance (lots more sunny files), so lets make them equal\n",
    "    num_files = len(rain_files)\n",
    "    print(num_files)\n",
    "    sun_files = random.shuffle(sun_files)\n",
    "    sun_files = sun_files[:num_files]\n",
    "    assert(len(sun_files)==len(rain_files))\n",
    "    return sun_files, rain_files\n",
    "\n",
    "sun_files,rain_files = generate_file_list(DIRNAME)\n"
   ]
  },
  {
   "cell_type": "code",
   "execution_count": 0,
   "metadata": {
    "colab": {},
    "colab_type": "code",
    "id": "gb3SiGUbq_Jv"
   },
   "outputs": [],
   "source": [
    "def save_image(image,savename):\n",
    "    #Decode the encoded image\n",
    "    bytes_img=BytesIO(image)\n",
    "    im=Image.open(bytes_img)\n",
    "    name=\"sunny\"+str(count)+ \".png\"\n",
    "    im.save(os.path.join('weather_images/',name))\n",
    "\n",
    "def create_new_images(sun_arr, rain_arr):\n",
    "\n",
    "    count = 0\n",
    "    for i in tqdm(range(len(sun_arr))):\n",
    "        datafile = WaymoDataFileReader(sun_arr[i])\n",
    "        for frame in datafile:\n",
    "            for i in range(len(frame.images)):\n",
    "                if i not in [2,4]:\n",
    "                    save_name = \"sunny\"+str(count)+ \".png\"\n",
    "                    save_image(frame.images[i].image,save_name)\n",
    "                    count += 1\n",
    "    count = 0\n",
    "    for i in tqdm(range(len(rain_arr))):\n",
    "        datafile = WaymoDataFileReader(rain_arr[i])\n",
    "        for frame in datafile:\n",
    "            for i in range(len(frame.images)):\n",
    "                if i not in [2,4]:\n",
    "                    save_name = \"rainy\"+str(count)+\".png\"\n",
    "                    save_image(frame.images[i].image, save_name)\n",
    "                    count += 1\n",
    "\n",
    "create_new_images(sun_files, rain_files)\n"
   ]
  }
 ],
 "metadata": {
  "colab": {
   "authorship_tag": "ABX9TyPwR81JdHAQvk79OQb9/jmi",
   "include_colab_link": true,
   "mount_file_id": "1CTpg7EkXrycpnLHhJzi1KD_jH1Yi81Hd",
   "name": "Generate_Weather_Dataset.ipynb",
   "provenance": []
  },
  "kernelspec": {
   "display_name": "Python 3",
   "language": "python",
   "name": "python3"
  },
  "language_info": {
   "codemirror_mode": {
    "name": "ipython",
    "version": 3
   },
   "file_extension": ".py",
   "mimetype": "text/x-python",
   "name": "python",
   "nbconvert_exporter": "python",
   "pygments_lexer": "ipython3",
   "version": "3.7.4"
  }
 },
 "nbformat": 4,
 "nbformat_minor": 1
}
