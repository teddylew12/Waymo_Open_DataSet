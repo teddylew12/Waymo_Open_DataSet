{
 "cells": [
  {
   "cell_type": "markdown",
   "metadata": {
    "colab_type": "text",
    "id": "view-in-github"
   },
   "source": [
    "<a href=\"https://colab.research.google.com/github/teddylew12/Waymo_Open_DataSet/blob/master/Generate_Weather_Dataset.ipynb\" target=\"_parent\"><img src=\"https://colab.research.google.com/assets/colab-badge.svg\" alt=\"Open In Colab\"/></a>"
   ]
  },
  {
   "cell_type": "code",
   "execution_count": 0,
   "metadata": {
    "colab": {},
    "colab_type": "code",
    "id": "Oeb-z5-T3zAF"
   },
   "outputs": [],
   "source": [
    "from google.colab import drive\n",
    "drive.mount('/data')\n"
   ]
  },
  {
   "cell_type": "code",
   "execution_count": 0,
   "metadata": {
    "colab": {},
    "colab_type": "code",
    "id": "Ndgc8K6bnk3E"
   },
   "outputs": [],
   "source": [
    "!pip3 install waymo-open-dataset\n",
    "!pip3 install tensorflow==2.0.0\n",
    "import os\n",
    "import tensorflow as tf\n",
    "import math\n",
    "import numpy as np\n",
    "import itertools\n",
    "import random\n",
    "from PIL import Image\n",
    "from tqdm import tqdm\n",
    "import pickle\n",
    "\n",
    "from waymo_open_dataset.utils import range_image_utils\n",
    "from waymo_open_dataset.utils import transform_utils\n",
    "from waymo_open_dataset.utils import  frame_utils\n",
    "from waymo_open_dataset import dataset_pb2 as open_dataset\n"
   ]
  },
  {
   "cell_type": "code",
   "execution_count": 0,
   "metadata": {
    "colab": {},
    "colab_type": "code",
    "id": "ek0nloED540p"
   },
   "outputs": [],
   "source": [
    "# Change the CD To your specific path\n",
    "DIRNAME =\"path/to/file\"\n",
    "os.chdir(DIRNAME)\n",
    "! mkdir faster_images"
   ]
  },
  {
   "cell_type": "code",
   "execution_count": 0,
   "metadata": {
    "colab": {},
    "colab_type": "code",
    "id": "gb3SiGUbq_Jv"
   },
   "outputs": [],
   "source": [
    "def save_image(image,savename):\n",
    "    \n",
    "    decoded=tf.image.decode_jpeg(image)\n",
    "    tonumpy=decoded.numpy()\n",
    "    im=Image.fromarray(tonumpy)\n",
    "    im.save(os.path.join('faster_images/', name))\n",
    "\n",
    "def make_roi_dict(lbl, filename): \n",
    "    \n",
    "    labelsMsg.CopyFrom(lbl)\n",
    "    boxes = np.array([[label.box.center_x - 0.5 * label.box.length,\n",
    "                          label.box.center_y - 0.5 * label.box.width,\n",
    "                          label.box.center_x + 0.5 * label.box.length,\n",
    "                          label.box.center_y + 0.5 * label.box.width] for label in lbl.labels])\n",
    "    labels = np.array([label.type+1 for label in labelsMsg.labels])\n",
    "    return {'file_name':filename,'boxes':boxes, 'class':labels, 'is_crowd':False}\n",
    "def extract_data_name(filename):\n",
    "    '''\n",
    "    Extracts Unique Identifier in each file name\n",
    "    Before:segment-15868625208244306149_4340_000_4360_000_with_camera_labels\n",
    "    After:15868625208244306149_4340_000_4360_000\n",
    "    '''\n",
    "    return filename.split(\"-\")[-1][:-28]\n",
    "def create_list_of_roi_dicts(dirname):\n",
    "    \n",
    "    roi_list = []\n",
    "    with os.scandir(dirname) as scanobj:\n",
    "        for entry in scanobj:\n",
    "            if entry.name.endwith('.tfrecord'):\n",
    "                dataset = tf.data.TFRecordDataset(entry.path)\n",
    "                d_name = extract_data_name(entry.name)\n",
    "                #Keep track of which frame in the data object is being processed\n",
    "                frame_num = 0\n",
    "                for data in dataset:\n",
    "                    frame = open_dataset.Frame()\n",
    "                    frame.ParseFromString(bytearray(data.numpy()))\n",
    "\n",
    "                    #Keep track of which camera image of the frame is being processed\n",
    "                    image_num = 0\n",
    "\n",
    "                    for lbl, img in zip(frame.camera_labels, frame.images):\n",
    "                        \n",
    "                        name=f\"{d_name}_frame_{frame_num}_image_{image_num}.png\"\n",
    "                        roi_list.append(make_roi_dict(lbl, name))\n",
    "                        save_name(img.image, name)\n",
    "                        image_num += 1\n",
    "                    \n",
    "                    frame_num += 1\n",
    "    return roi_list\n",
    "def create_dataset(dirname):\n",
    "    rois = create_list_of_roi_dicts(dirname)\n",
    "    with open(\"faster_rcnn_rois.pickle\",'wb') as fileObj:\n",
    "        pickle.dump(p,fileObj)\n",
    "        \n",
    "DIRNAME= \"\"\n",
    "create_dataset(dirname)"
   ]
  }
 ],
 "metadata": {
  "colab": {
   "authorship_tag": "ABX9TyPwR81JdHAQvk79OQb9/jmi",
   "include_colab_link": true,
   "mount_file_id": "1CTpg7EkXrycpnLHhJzi1KD_jH1Yi81Hd",
   "name": "Generate_Weather_Dataset.ipynb",
   "provenance": []
  },
  "kernelspec": {
   "display_name": "Python 3",
   "language": "python",
   "name": "python3"
  },
  "language_info": {
   "codemirror_mode": {
    "name": "ipython",
    "version": 3
   },
   "file_extension": ".py",
   "mimetype": "text/x-python",
   "name": "python",
   "nbconvert_exporter": "python",
   "pygments_lexer": "ipython3",
   "version": "3.7.4"
  }
 },
 "nbformat": 4,
 "nbformat_minor": 1
}
