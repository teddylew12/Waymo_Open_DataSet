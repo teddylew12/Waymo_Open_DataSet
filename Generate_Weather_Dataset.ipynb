{
  "nbformat": 4,
  "nbformat_minor": 0,
  "metadata": {
    "colab": {
      "name": "Generate_Weather_Dataset.ipynb",
      "provenance": [],
      "mount_file_id": "1CTpg7EkXrycpnLHhJzi1KD_jH1Yi81Hd",
      "authorship_tag": "ABX9TyPwR81JdHAQvk79OQb9/jmi",
      "include_colab_link": true
    },
    "kernelspec": {
      "name": "python3",
      "display_name": "Python 3"
    }
  },
  "cells": [
    {
      "cell_type": "markdown",
      "metadata": {
        "id": "view-in-github",
        "colab_type": "text"
      },
      "source": [
        "<a href=\"https://colab.research.google.com/github/teddylew12/Waymo_Open_DataSet/blob/master/Generate_Weather_Dataset.ipynb\" target=\"_parent\"><img src=\"https://colab.research.google.com/assets/colab-badge.svg\" alt=\"Open In Colab\"/></a>"
      ]
    },
    {
      "cell_type": "code",
      "metadata": {
        "id": "Oeb-z5-T3zAF",
        "colab_type": "code",
        "colab": {}
      },
      "source": [
        "from google.colab import drive\n",
        "drive.mount('/data')\n"
      ],
      "execution_count": 0,
      "outputs": []
    },
    {
      "cell_type": "code",
      "metadata": {
        "id": "Ndgc8K6bnk3E",
        "colab_type": "code",
        "colab": {}
      },
      "source": [
        "!pip3 install waymo-open-dataset\n",
        "!pip3 install tensorflow==2.0.0\n",
        "import os\n",
        "import tensorflow as tf\n",
        "import math\n",
        "import numpy as np\n",
        "import itertools\n",
        "import random\n",
        "from PIL import Image\n",
        "from tqdm import tqdm\n",
        "\n",
        "\n",
        "from waymo_open_dataset.utils import range_image_utils\n",
        "from waymo_open_dataset.utils import transform_utils\n",
        "from waymo_open_dataset.utils import  frame_utils\n",
        "from waymo_open_dataset import dataset_pb2 as open_dataset\n"
      ],
      "execution_count": 0,
      "outputs": []
    },
    {
      "cell_type": "code",
      "metadata": {
        "id": "ek0nloED540p",
        "colab_type": "code",
        "colab": {}
      },
      "source": [
        "# Change the CD To your specific path\n",
        "DIRNAME =\"/content/drive/Shared drives/Waymo Project/Data/CleanTest/weather_images\"\n",
        "os.chdir(DIRNAME)\n",
        "! mkdir weather_images"
      ],
      "execution_count": 0,
      "outputs": []
    },
    {
      "cell_type": "code",
      "metadata": {
        "id": "fKXzF-pL1Mcb",
        "colab_type": "code",
        "colab": {}
      },
      "source": [
        "\n",
        "def getWeather(FILENAME):\n",
        "  dataset = tf.data.TFRecordDataset(FILENAME, compression_type='')\n",
        "  data = dataset.take(1)\n",
        "  frame = open_dataset.Frame()\n",
        "  frame.ParseFromString(bytearray(data.numpy()))\n",
        "  return  frame.context.stats.weather\n",
        "def generate_file_list(dirname):\n",
        "  sun_files =[]\n",
        "  rain_files =[]\n",
        "  for fname in os.listdir(dirname):\n",
        "    if not fname.endswith(\".tfrecord\"):\n",
        "      continue\n",
        "    fullname = os.path.join(dirname,fname)\n",
        "    if getWeather(fullname) == \"sunny\":\n",
        "      sun_files.append(fname)\n",
        "    else:\n",
        "      rain_files.append(fname)\n",
        "  #There will be an imbalance (lots more sunny files), so lets make them equal\n",
        "  num_files = len(rain_files)\n",
        "  print(num_files)\n",
        "  sun_files = random.shuffle(sun_files)\n",
        "  sun_files = sun_files[:num_files]\n",
        "  assert(len(sun_files)==len(rain_files))\n",
        "  return sun_files, rain_files\n",
        "\n",
        "sun_files,rain_files = generate_file_list(DIRNAME)\n"
      ],
      "execution_count": 0,
      "outputs": []
    },
    {
      "cell_type": "code",
      "metadata": {
        "id": "gb3SiGUbq_Jv",
        "colab_type": "code",
        "colab": {}
      },
      "source": [
        "def save_image(image,savename):\n",
        "  decoded=tf.image.decode_jpeg(frame.images[i].image)\n",
        "  tonumpy=decoded.numpy()\n",
        "  im=Image.fromarray(tonumpy)\n",
        "  name=\"sunny\"+str(count)+ \".png\"\n",
        "  im.save(os.path.join('weather_images/',name))\n",
        "\n",
        "def create_new_images(sun_arr, rain_arr):\n",
        "\n",
        "  count = 0\n",
        "  for i in tqdm(range(len(sun_arr))):\n",
        "    dataset=tf.data.TFRecordDataset(sun_arr[i],compression_type='')\n",
        "    for data in dataset:\n",
        "      frame=open_dataset.Frame()\n",
        "      frame.ParseFromString(bytearray(data.numpy()))\n",
        "      for i in range(len(frame.images)):\n",
        "        if i not in [2,4]:\n",
        "          save_name = \"sunny\"+str(count)+ \".png\"\n",
        "          save_image(frame.images[i].image,save_name)\n",
        "          count += 1\n",
        "  count = 0\n",
        "  for i in tqdm(range(len(rain_arr))):\n",
        "    dataset=tf.data.TFRecordDataset(rain_arr[i],compression_type='')\n",
        "    for data in dataset:\n",
        "      frame=open_dataset.Frame()\n",
        "      frame.ParseFromString(bytearray(data.numpy()))\n",
        "      for i in range(len(frame.images)):\n",
        "        if i not in [2,4]:\n",
        "          save_name = \"rainy\"+str(count)+\".png\"\n",
        "          save_image(frame.images[i].image, save_name)\n",
        "          count += 1\n",
        "\n",
        "create_new_images(sun_files, rain_files)\n"
      ],
      "execution_count": 0,
      "outputs": []
    }
  ]
}